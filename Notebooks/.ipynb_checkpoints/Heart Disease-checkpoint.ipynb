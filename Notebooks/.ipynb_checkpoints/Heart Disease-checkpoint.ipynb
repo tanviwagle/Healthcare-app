{
 "cells": [
  {
   "cell_type": "raw",
   "metadata": {},
   "source": [
    "Information from website: https://archive.ics.uci.edu/ml/datasets/heart+disease"
   ]
  },
  {
   "cell_type": "code",
   "execution_count": null,
   "metadata": {},
   "outputs": [],
   "source": [
    "## Columns description:"
   ]
  },
  {
   "cell_type": "raw",
   "metadata": {},
   "source": [
    "age: age in years\n",
    "sex: sex (1: Male, 0: Female)\n",
    "cp (chest pain type):\n",
    "    Value 3: typical angina\n",
    "    Value 2: non- anginal pain\n",
    "    Value 1: atypical angina\n",
    "    Value 0: asymptomatic\n",
    "trestbps: resting blood pressure (in mm Hg on admission to the hospital)\n",
    "chol: serum cholesterol in mg/dl\n",
    "fbs (fasting blood pressure > 120mg/dl): 1: true, 0: false\n",
    "restecg: resting electrocardiographic results:\n",
    "    Value 0: normal\n",
    "    Value 1: having ST-T wave abnormality\n",
    "    Value 2: showing probable or definite left ventricular hypertrophy by Estes' criteria\n",
    "thalach: maximum heart rate achieved\n",
    "exang (exercise induced angina): (1: yes, 0: no)\n",
    "oldpeak: ST depression induced by exercise ST segment \n",
    "slope: the slipe of the preak exercise ST segment\n",
    "    Value 2: upsloping\n",
    "    Value 1: flat\n",
    "    Value 0: downsloping\n",
    "ca: number of major vessels (0-3) colored by flourosopy\n",
    "thal: 3: normal; 6: fixed defect; 7: reversable defect\n",
    "target:\n",
    "    Value 0: < 50% diameter narrowing\n",
    "    Value 1: > 50% diameter narrowing"
   ]
  },
  {
   "cell_type": "code",
   "execution_count": 86,
   "metadata": {
    "scrolled": false
   },
   "outputs": [],
   "source": [
    "import numpy as np\n",
    "import pandas as pd\n",
    "import matplotlib.pyplot as plt\n",
    "import seaborn as sns\n",
    "\n",
    "from sklearn.linear_model import LinearRegression, LogisticRegression\n",
    "from sklearn.svm import SVC\n",
    "from sklearn.model_selection import train_test_split\n",
    "from sklearn.metrics import accuracy_score, precision_recall_fscore_support, mean_squared_error, roc_auc_score\n",
    "from sklearn.tree import DecisionTreeClassifier\n",
    "from sklearn.ensemble import BaggingClassifier, RandomForestClassifier\n",
    "from sklearn.neighbors import KNeighborsClassifier  "
   ]
  },
  {
   "cell_type": "code",
   "execution_count": 87,
   "metadata": {
    "scrolled": false
   },
   "outputs": [],
   "source": [
    "# Reading Dataset\n",
    "df_train = pd.read_csv(r'..\\Datasets\\heart.csv')"
   ]
  },
  {
   "cell_type": "code",
   "execution_count": 88,
   "metadata": {
    "scrolled": false
   },
   "outputs": [
    {
     "data": {
      "text/html": [
       "<div>\n",
       "<style scoped>\n",
       "    .dataframe tbody tr th:only-of-type {\n",
       "        vertical-align: middle;\n",
       "    }\n",
       "\n",
       "    .dataframe tbody tr th {\n",
       "        vertical-align: top;\n",
       "    }\n",
       "\n",
       "    .dataframe thead th {\n",
       "        text-align: right;\n",
       "    }\n",
       "</style>\n",
       "<table border=\"1\" class=\"dataframe\">\n",
       "  <thead>\n",
       "    <tr style=\"text-align: right;\">\n",
       "      <th></th>\n",
       "      <th>age</th>\n",
       "      <th>sex</th>\n",
       "      <th>cp</th>\n",
       "      <th>trestbps</th>\n",
       "      <th>chol</th>\n",
       "      <th>fbs</th>\n",
       "      <th>restecg</th>\n",
       "      <th>thalach</th>\n",
       "      <th>exang</th>\n",
       "      <th>oldpeak</th>\n",
       "      <th>slope</th>\n",
       "      <th>ca</th>\n",
       "      <th>thal</th>\n",
       "      <th>target</th>\n",
       "    </tr>\n",
       "  </thead>\n",
       "  <tbody>\n",
       "    <tr>\n",
       "      <th>0</th>\n",
       "      <td>63</td>\n",
       "      <td>1</td>\n",
       "      <td>3</td>\n",
       "      <td>145</td>\n",
       "      <td>233</td>\n",
       "      <td>1</td>\n",
       "      <td>0</td>\n",
       "      <td>150</td>\n",
       "      <td>0</td>\n",
       "      <td>2.3</td>\n",
       "      <td>0</td>\n",
       "      <td>0</td>\n",
       "      <td>1</td>\n",
       "      <td>1</td>\n",
       "    </tr>\n",
       "    <tr>\n",
       "      <th>1</th>\n",
       "      <td>37</td>\n",
       "      <td>1</td>\n",
       "      <td>2</td>\n",
       "      <td>130</td>\n",
       "      <td>250</td>\n",
       "      <td>0</td>\n",
       "      <td>1</td>\n",
       "      <td>187</td>\n",
       "      <td>0</td>\n",
       "      <td>3.5</td>\n",
       "      <td>0</td>\n",
       "      <td>0</td>\n",
       "      <td>2</td>\n",
       "      <td>1</td>\n",
       "    </tr>\n",
       "    <tr>\n",
       "      <th>2</th>\n",
       "      <td>41</td>\n",
       "      <td>0</td>\n",
       "      <td>1</td>\n",
       "      <td>130</td>\n",
       "      <td>204</td>\n",
       "      <td>0</td>\n",
       "      <td>0</td>\n",
       "      <td>172</td>\n",
       "      <td>0</td>\n",
       "      <td>1.4</td>\n",
       "      <td>2</td>\n",
       "      <td>0</td>\n",
       "      <td>2</td>\n",
       "      <td>1</td>\n",
       "    </tr>\n",
       "    <tr>\n",
       "      <th>3</th>\n",
       "      <td>56</td>\n",
       "      <td>1</td>\n",
       "      <td>1</td>\n",
       "      <td>120</td>\n",
       "      <td>236</td>\n",
       "      <td>0</td>\n",
       "      <td>1</td>\n",
       "      <td>178</td>\n",
       "      <td>0</td>\n",
       "      <td>0.8</td>\n",
       "      <td>2</td>\n",
       "      <td>0</td>\n",
       "      <td>2</td>\n",
       "      <td>1</td>\n",
       "    </tr>\n",
       "    <tr>\n",
       "      <th>4</th>\n",
       "      <td>57</td>\n",
       "      <td>0</td>\n",
       "      <td>0</td>\n",
       "      <td>120</td>\n",
       "      <td>354</td>\n",
       "      <td>0</td>\n",
       "      <td>1</td>\n",
       "      <td>163</td>\n",
       "      <td>1</td>\n",
       "      <td>0.6</td>\n",
       "      <td>2</td>\n",
       "      <td>0</td>\n",
       "      <td>2</td>\n",
       "      <td>1</td>\n",
       "    </tr>\n",
       "  </tbody>\n",
       "</table>\n",
       "</div>"
      ],
      "text/plain": [
       "   age  sex  cp  trestbps  chol  fbs  restecg  thalach  exang  oldpeak  slope  \\\n",
       "0   63    1   3       145   233    1        0      150      0      2.3      0   \n",
       "1   37    1   2       130   250    0        1      187      0      3.5      0   \n",
       "2   41    0   1       130   204    0        0      172      0      1.4      2   \n",
       "3   56    1   1       120   236    0        1      178      0      0.8      2   \n",
       "4   57    0   0       120   354    0        1      163      1      0.6      2   \n",
       "\n",
       "   ca  thal  target  \n",
       "0   0     1       1  \n",
       "1   0     2       1  \n",
       "2   0     2       1  \n",
       "3   0     2       1  \n",
       "4   0     2       1  "
      ]
     },
     "execution_count": 88,
     "metadata": {},
     "output_type": "execute_result"
    }
   ],
   "source": [
    "df_train.head()"
   ]
  },
  {
   "cell_type": "code",
   "execution_count": 89,
   "metadata": {
    "scrolled": false
   },
   "outputs": [
    {
     "name": "stdout",
     "output_type": "stream",
     "text": [
      "<class 'pandas.core.frame.DataFrame'>\n",
      "RangeIndex: 303 entries, 0 to 302\n",
      "Data columns (total 14 columns):\n",
      "age         303 non-null int64\n",
      "sex         303 non-null int64\n",
      "cp          303 non-null int64\n",
      "trestbps    303 non-null int64\n",
      "chol        303 non-null int64\n",
      "fbs         303 non-null int64\n",
      "restecg     303 non-null int64\n",
      "thalach     303 non-null int64\n",
      "exang       303 non-null int64\n",
      "oldpeak     303 non-null float64\n",
      "slope       303 non-null int64\n",
      "ca          303 non-null int64\n",
      "thal        303 non-null int64\n",
      "target      303 non-null int64\n",
      "dtypes: float64(1), int64(13)\n",
      "memory usage: 33.2 KB\n"
     ]
    }
   ],
   "source": [
    "df_train.info()"
   ]
  },
  {
   "cell_type": "code",
   "execution_count": 90,
   "metadata": {
    "scrolled": false
   },
   "outputs": [
    {
     "name": "stdout",
     "output_type": "stream",
     "text": [
      "age 41\n",
      "*************************\n",
      "sex 2\n",
      "[1, 0]\n",
      "*************************\n",
      "cp 4\n",
      "[3, 2, 1, 0]\n",
      "*************************\n",
      "trestbps 49\n",
      "*************************\n",
      "chol 152\n",
      "*************************\n",
      "fbs 2\n",
      "[1, 0]\n",
      "*************************\n",
      "restecg 3\n",
      "[0, 1, 2]\n",
      "*************************\n",
      "thalach 91\n",
      "*************************\n",
      "exang 2\n",
      "[0, 1]\n",
      "*************************\n",
      "oldpeak 40\n",
      "*************************\n",
      "slope 3\n",
      "[0, 2, 1]\n",
      "*************************\n",
      "ca 5\n",
      "[0, 2, 1, 3, 4]\n",
      "*************************\n",
      "thal 4\n",
      "[1, 2, 3, 0]\n",
      "*************************\n",
      "target 2\n",
      "[1, 0]\n",
      "*************************\n"
     ]
    }
   ],
   "source": [
    "for i in df_train.columns:\n",
    "    print(i, df_train[i].nunique())\n",
    "    if(df_train[i].nunique() < 10):\n",
    "        print(list(df_train[i].unique()))\n",
    "    print('*************************')"
   ]
  },
  {
   "cell_type": "code",
   "execution_count": 65,
   "metadata": {},
   "outputs": [],
   "source": [
    "    "
   ]
  },
  {
   "cell_type": "code",
   "execution_count": 91,
   "metadata": {
    "scrolled": false
   },
   "outputs": [],
   "source": [
    "# Rename columns for better readability\n",
    "df_train.columns = ['age', 'sex', 'chest_pain_type', 'resting_blood_pressure', 'cholesterol', 'fasting_blood_pressure',\n",
    "                    'rest_ecg', 'max_heart_rate_achieved', 'exercise_induced_angina', 'st_depression', 'slope',\n",
    "                    'num_major_vessels', 'thal', 'target']"
   ]
  },
  {
   "cell_type": "markdown",
   "metadata": {},
   "source": [
    "# Check if there are any null values or not"
   ]
  },
  {
   "cell_type": "code",
   "execution_count": 92,
   "metadata": {
    "scrolled": false
   },
   "outputs": [
    {
     "data": {
      "text/plain": [
       "<matplotlib.axes._subplots.AxesSubplot at 0x1b2ee532940>"
      ]
     },
     "execution_count": 92,
     "metadata": {},
     "output_type": "execute_result"
    },
    {
     "data": {
      "image/png": "[encoded data removed]",
      "text/plain": [
       "<Figure size 432x288 with 2 Axes>"
      ]
     },
     "metadata": {
      "needs_background": "light"
     },
     "output_type": "display_data"
    }
   ],
   "source": [
    "sns.heatmap(df_train.isnull().sum().to_frame(), cmap = 'viridis_r',)"
   ]
  },
  {
   "cell_type": "markdown",
   "metadata": {},
   "source": [
    "<b>There are no null values</b>"
   ]
  },
  {
   "cell_type": "markdown",
   "metadata": {},
   "source": [
    "# EDA"
   ]
  },
  {
   "cell_type": "markdown",
   "metadata": {},
   "source": [
    "<h3>Chest pain type having heart disease.</h3>"
   ]
  },
  {
   "cell_type": "code",
   "execution_count": 93,
   "metadata": {
    "scrolled": false
   },
   "outputs": [
    {
     "data": {
      "text/plain": [
       "([<matplotlib.axis.XTick at 0x1b2ee26e198>,\n",
       "  <matplotlib.axis.XTick at 0x1b2ee258b00>,\n",
       "  <matplotlib.axis.XTick at 0x1b2ee258828>,\n",
       "  <matplotlib.axis.XTick at 0x1b2eed9f908>],\n",
       " <a list of 4 Text xticklabel objects>)"
      ]
     },
     "execution_count": 93,
     "metadata": {},
     "output_type": "execute_result"
    },
    {
     "data": {
      "image/png": "[encoded data removed]",
      "text/plain": [
       "<Figure size 432x288 with 1 Axes>"
      ]
     },
     "metadata": {
      "needs_background": "light"
     },
     "output_type": "display_data"
    }
   ],
   "source": [
    "sns.countplot(x = 'chest_pain_type', data = df_train, hue = 'target', palette = sns.color_palette('Set1'))\n",
    "plt.legend(['Disease', 'No Disease'])\n",
    "plt.xticks([0,1,2,3], ['typical angina', 'atypical angina', 'non- anginal pain', 'asymptomatic'], rotation = 45)"
   ]
  },
  {
   "cell_type": "markdown",
   "metadata": {},
   "source": [
    "<b>Patients with non-anginal type of chest pain are more likely to have heart disease</b>"
   ]
  },
  {
   "cell_type": "markdown",
   "metadata": {},
   "source": [
    "<h3>Different graph for continuous values like age, resting blood pressure, cholesterol, etc.</h3>"
   ]
  },
  {
   "cell_type": "code",
   "execution_count": 43,
   "metadata": {
    "scrolled": false
   },
   "outputs": [
    {
     "data": {
      "image/png": "[encoded data removed]",
      "text/plain": [
       "<Figure size 1080x1080 with 5 Axes>"
      ]
     },
     "metadata": {
      "needs_background": "light"
     },
     "output_type": "display_data"
    }
   ],
   "source": [
    "plt.figure(figsize=(15, 15))\n",
    "continous_val = ['age', 'resting_blood_pressure', 'cholesterol', 'max_heart_rate_achieved', 'st_depression']\n",
    "for i, column in enumerate(continous_val, 1):\n",
    "    plt.subplot(3, 2, i)\n",
    "    sns.distplot(df_train[df_train[\"target\"] == 1][column], bins=30, color='blue', label='Have Heart Disease = NO')\n",
    "    sns.distplot(df_train[df_train[\"target\"] == 0][column], bins=30, color='red', label='Have Heart Disease = YES')\n",
    "    plt.legend()\n",
    "    plt.xlabel(column)"
   ]
  },
  {
   "cell_type": "markdown",
   "metadata": {},
   "source": [
    "<b>Resting blood pressure falls under same range for patients who have and don't have the disease. <br />\n",
    "    Max heart rate: <br /> </b>\n",
    "    Around 150 (No heart Disease) <br/>\n",
    "    Around 170 -175 (Heart Disease)\n"
   ]
  },
  {
   "cell_type": "markdown",
   "metadata": {},
   "source": [
    "<h3>Cholesterol level for different age groups.</h3>"
   ]
  },
  {
   "cell_type": "code",
   "execution_count": 70,
   "metadata": {
    "scrolled": false
   },
   "outputs": [],
   "source": [
    "df_train[\"agegrp\"]=pd.cut(df_train.age, [29,40,50,60,70,80])"
   ]
  },
  {
   "cell_type": "code",
   "execution_count": 71,
   "metadata": {
    "scrolled": false
   },
   "outputs": [
    {
     "data": {
      "text/plain": [
       "<matplotlib.axes._subplots.AxesSubplot at 0x1b2ee3b9eb8>"
      ]
     },
     "execution_count": 71,
     "metadata": {},
     "output_type": "execute_result"
    },
    {
     "data": {
      "image/png": "[encoded data removed]",
      "text/plain": [
       "<Figure size 864x360 with 1 Axes>"
      ]
     },
     "metadata": {
      "needs_background": "light"
     },
     "output_type": "display_data"
    }
   ],
   "source": [
    "plt.figure(figsize=(12,5))\n",
    "sns.boxplot(x = \"agegrp\", y = \"cholesterol\", data=df_train)"
   ]
  },
  {
   "cell_type": "markdown",
   "metadata": {},
   "source": [
    "<b>Age group from 40-50, 50-60, 60-70 have almost same cholesterol levels</b>"
   ]
  },
  {
   "cell_type": "markdown",
   "metadata": {},
   "source": [
    "<h3>Count for patients suffering from heart disease</h3>"
   ]
  },
  {
   "cell_type": "code",
   "execution_count": 72,
   "metadata": {
    "scrolled": false
   },
   "outputs": [
    {
     "data": {
      "text/plain": [
       "<matplotlib.axes._subplots.AxesSubplot at 0x1b2ee3b9908>"
      ]
     },
     "execution_count": 72,
     "metadata": {},
     "output_type": "execute_result"
    },
    {
     "data": {
      "image/png": "[encoded data removed]",
      "text/plain": [
       "<Figure size 432x288 with 1 Axes>"
      ]
     },
     "metadata": {
      "needs_background": "light"
     },
     "output_type": "display_data"
    }
   ],
   "source": [
    "sns.countplot(x = 'target', data = df_train)"
   ]
  },
  {
   "cell_type": "code",
   "execution_count": 73,
   "metadata": {
    "scrolled": false
   },
   "outputs": [
    {
     "data": {
      "text/plain": [
       "1    160\n",
       "0    136\n",
       "Name: target, dtype: int64"
      ]
     },
     "execution_count": 73,
     "metadata": {},
     "output_type": "execute_result"
    }
   ],
   "source": [
    "df_train['target'].value_counts()"
   ]
  },
  {
   "cell_type": "code",
   "execution_count": 74,
   "metadata": {
    "scrolled": false
   },
   "outputs": [
    {
     "name": "stdout",
     "output_type": "stream",
     "text": [
      "No Heart disease (1's): 54.05 %\n",
      "Disease Possibility (0's): 45.95 %\n"
     ]
    }
   ],
   "source": [
    "def percentage_cal(df):\n",
    "    ones = df[df['target'] == 0]['target'].count()\n",
    "    zeros = df[df['target'] == 1]['target'].count()\n",
    "    total = zeros + ones\n",
    "    # percentage calculation\n",
    "    print(\"No Heart disease (1's): \" + str(round((zeros/total) * 100, 2)) + \" %\\nDisease Possibility (0's): \"\n",
    "          + str(round((ones/total) * 100, 2)) + ' %')\n",
    "percentage_cal(df_train)"
   ]
  },
  {
   "cell_type": "markdown",
   "metadata": {},
   "source": [
    "### It is a balanced dataset"
   ]
  },
  {
   "cell_type": "markdown",
   "metadata": {},
   "source": [
    "## Treating categorical features\n",
    "### One hot encoding"
   ]
  },
  {
   "cell_type": "code",
   "execution_count": 75,
   "metadata": {
    "scrolled": true
   },
   "outputs": [],
   "source": [
    "df_train = df_train.drop('agegrp', axis = 1)"
   ]
  },
  {
   "cell_type": "code",
   "execution_count": 76,
   "metadata": {
    "scrolled": false
   },
   "outputs": [],
   "source": [
    "df_train = pd.get_dummies(data = df_train, columns = ['sex', 'chest_pain_type', 'fasting_blood_pressure', 'rest_ecg', \n",
    "                                           'exercise_induced_angina', 'slope', 'num_major_vessels', 'thal'], dtype= 'int')"
   ]
  },
  {
   "cell_type": "code",
   "execution_count": 77,
   "metadata": {
    "scrolled": false
   },
   "outputs": [
    {
     "name": "stdout",
     "output_type": "stream",
     "text": [
      "<class 'pandas.core.frame.DataFrame'>\n",
      "Int64Index: 296 entries, 0 to 302\n",
      "Data columns (total 29 columns):\n",
      "age                          296 non-null int64\n",
      "resting_blood_pressure       296 non-null int64\n",
      "cholesterol                  296 non-null int64\n",
      "max_heart_rate_achieved      296 non-null int64\n",
      "st_depression                296 non-null float64\n",
      "target                       296 non-null int64\n",
      "sex_0                        296 non-null int32\n",
      "sex_1                        296 non-null int32\n",
      "chest_pain_type_0            296 non-null int32\n",
      "chest_pain_type_1            296 non-null int32\n",
      "chest_pain_type_2            296 non-null int32\n",
      "chest_pain_type_3            296 non-null int32\n",
      "fasting_blood_pressure_0     296 non-null int32\n",
      "fasting_blood_pressure_1     296 non-null int32\n",
      "rest_ecg_0                   296 non-null int32\n",
      "rest_ecg_1                   296 non-null int32\n",
      "rest_ecg_2                   296 non-null int32\n",
      "exercise_induced_angina_0    296 non-null int32\n",
      "exercise_induced_angina_1    296 non-null int32\n",
      "slope_0                      296 non-null int32\n",
      "slope_1                      296 non-null int32\n",
      "slope_2                      296 non-null int32\n",
      "num_major_vessels_0          296 non-null int32\n",
      "num_major_vessels_1          296 non-null int32\n",
      "num_major_vessels_2          296 non-null int32\n",
      "num_major_vessels_3          296 non-null int32\n",
      "thal_1                       296 non-null int32\n",
      "thal_2                       296 non-null int32\n",
      "thal_3                       296 non-null int32\n",
      "dtypes: float64(1), int32(23), int64(5)\n",
      "memory usage: 52.8 KB\n"
     ]
    }
   ],
   "source": [
    "df_train.info()"
   ]
  },
  {
   "cell_type": "markdown",
   "metadata": {},
   "source": [
    "<h3>Standard Scaler</h3>"
   ]
  },
  {
   "cell_type": "code",
   "execution_count": 78,
   "metadata": {
    "scrolled": false
   },
   "outputs": [],
   "source": [
    "from sklearn.preprocessing import StandardScaler\n",
    "standardScaler = StandardScaler()\n",
    "scale_columns = ['age', 'resting_blood_pressure', 'cholesterol', 'max_heart_rate_achieved', 'st_depression']\n",
    "\n",
    "df_train[scale_columns] = standardScaler.fit_transform(df_train[scale_columns])"
   ]
  },
  {
   "cell_type": "code",
   "execution_count": 79,
   "metadata": {
    "scrolled": false
   },
   "outputs": [
    {
     "data": {
      "text/html": [
       "<div>\n",
       "<style scoped>\n",
       "    .dataframe tbody tr th:only-of-type {\n",
       "        vertical-align: middle;\n",
       "    }\n",
       "\n",
       "    .dataframe tbody tr th {\n",
       "        vertical-align: top;\n",
       "    }\n",
       "\n",
       "    .dataframe thead th {\n",
       "        text-align: right;\n",
       "    }\n",
       "</style>\n",
       "<table border=\"1\" class=\"dataframe\">\n",
       "  <thead>\n",
       "    <tr style=\"text-align: right;\">\n",
       "      <th></th>\n",
       "      <th>age</th>\n",
       "      <th>resting_blood_pressure</th>\n",
       "      <th>cholesterol</th>\n",
       "      <th>max_heart_rate_achieved</th>\n",
       "      <th>st_depression</th>\n",
       "      <th>target</th>\n",
       "      <th>sex_0</th>\n",
       "      <th>sex_1</th>\n",
       "      <th>chest_pain_type_0</th>\n",
       "      <th>chest_pain_type_1</th>\n",
       "      <th>...</th>\n",
       "      <th>slope_0</th>\n",
       "      <th>slope_1</th>\n",
       "      <th>slope_2</th>\n",
       "      <th>num_major_vessels_0</th>\n",
       "      <th>num_major_vessels_1</th>\n",
       "      <th>num_major_vessels_2</th>\n",
       "      <th>num_major_vessels_3</th>\n",
       "      <th>thal_1</th>\n",
       "      <th>thal_2</th>\n",
       "      <th>thal_3</th>\n",
       "    </tr>\n",
       "  </thead>\n",
       "  <tbody>\n",
       "    <tr>\n",
       "      <th>0</th>\n",
       "      <td>0.937219</td>\n",
       "      <td>0.756938</td>\n",
       "      <td>-0.272801</td>\n",
       "      <td>0.019152</td>\n",
       "      <td>1.065587</td>\n",
       "      <td>1</td>\n",
       "      <td>0</td>\n",
       "      <td>1</td>\n",
       "      <td>0</td>\n",
       "      <td>0</td>\n",
       "      <td>...</td>\n",
       "      <td>1</td>\n",
       "      <td>0</td>\n",
       "      <td>0</td>\n",
       "      <td>1</td>\n",
       "      <td>0</td>\n",
       "      <td>0</td>\n",
       "      <td>0</td>\n",
       "      <td>1</td>\n",
       "      <td>0</td>\n",
       "      <td>0</td>\n",
       "    </tr>\n",
       "    <tr>\n",
       "      <th>1</th>\n",
       "      <td>-1.937566</td>\n",
       "      <td>-0.090680</td>\n",
       "      <td>0.054821</td>\n",
       "      <td>1.632621</td>\n",
       "      <td>2.096070</td>\n",
       "      <td>1</td>\n",
       "      <td>0</td>\n",
       "      <td>1</td>\n",
       "      <td>0</td>\n",
       "      <td>0</td>\n",
       "      <td>...</td>\n",
       "      <td>1</td>\n",
       "      <td>0</td>\n",
       "      <td>0</td>\n",
       "      <td>1</td>\n",
       "      <td>0</td>\n",
       "      <td>0</td>\n",
       "      <td>0</td>\n",
       "      <td>0</td>\n",
       "      <td>1</td>\n",
       "      <td>0</td>\n",
       "    </tr>\n",
       "    <tr>\n",
       "      <th>2</th>\n",
       "      <td>-1.495292</td>\n",
       "      <td>-0.090680</td>\n",
       "      <td>-0.831685</td>\n",
       "      <td>0.978512</td>\n",
       "      <td>0.292725</td>\n",
       "      <td>1</td>\n",
       "      <td>1</td>\n",
       "      <td>0</td>\n",
       "      <td>0</td>\n",
       "      <td>1</td>\n",
       "      <td>...</td>\n",
       "      <td>0</td>\n",
       "      <td>0</td>\n",
       "      <td>1</td>\n",
       "      <td>1</td>\n",
       "      <td>0</td>\n",
       "      <td>0</td>\n",
       "      <td>0</td>\n",
       "      <td>0</td>\n",
       "      <td>1</td>\n",
       "      <td>0</td>\n",
       "    </tr>\n",
       "    <tr>\n",
       "      <th>3</th>\n",
       "      <td>0.163238</td>\n",
       "      <td>-0.655759</td>\n",
       "      <td>-0.214985</td>\n",
       "      <td>1.240155</td>\n",
       "      <td>-0.222517</td>\n",
       "      <td>1</td>\n",
       "      <td>0</td>\n",
       "      <td>1</td>\n",
       "      <td>0</td>\n",
       "      <td>1</td>\n",
       "      <td>...</td>\n",
       "      <td>0</td>\n",
       "      <td>0</td>\n",
       "      <td>1</td>\n",
       "      <td>1</td>\n",
       "      <td>0</td>\n",
       "      <td>0</td>\n",
       "      <td>0</td>\n",
       "      <td>0</td>\n",
       "      <td>1</td>\n",
       "      <td>0</td>\n",
       "    </tr>\n",
       "    <tr>\n",
       "      <th>4</th>\n",
       "      <td>0.273807</td>\n",
       "      <td>-0.655759</td>\n",
       "      <td>2.059094</td>\n",
       "      <td>0.586046</td>\n",
       "      <td>-0.394264</td>\n",
       "      <td>1</td>\n",
       "      <td>1</td>\n",
       "      <td>0</td>\n",
       "      <td>1</td>\n",
       "      <td>0</td>\n",
       "      <td>...</td>\n",
       "      <td>0</td>\n",
       "      <td>0</td>\n",
       "      <td>1</td>\n",
       "      <td>1</td>\n",
       "      <td>0</td>\n",
       "      <td>0</td>\n",
       "      <td>0</td>\n",
       "      <td>0</td>\n",
       "      <td>1</td>\n",
       "      <td>0</td>\n",
       "    </tr>\n",
       "  </tbody>\n",
       "</table>\n",
       "<p>5 rows × 29 columns</p>\n",
       "</div>"
      ],
      "text/plain": [
       "        age  resting_blood_pressure  cholesterol  max_heart_rate_achieved  \\\n",
       "0  0.937219                0.756938    -0.272801                 0.019152   \n",
       "1 -1.937566               -0.090680     0.054821                 1.632621   \n",
       "2 -1.495292               -0.090680    -0.831685                 0.978512   \n",
       "3  0.163238               -0.655759    -0.214985                 1.240155   \n",
       "4  0.273807               -0.655759     2.059094                 0.586046   \n",
       "\n",
       "   st_depression  target  sex_0  sex_1  chest_pain_type_0  chest_pain_type_1  \\\n",
       "0       1.065587       1      0      1                  0                  0   \n",
       "1       2.096070       1      0      1                  0                  0   \n",
       "2       0.292725       1      1      0                  0                  1   \n",
       "3      -0.222517       1      0      1                  0                  1   \n",
       "4      -0.394264       1      1      0                  1                  0   \n",
       "\n",
       "   ...  slope_0  slope_1  slope_2  num_major_vessels_0  num_major_vessels_1  \\\n",
       "0  ...        1        0        0                    1                    0   \n",
       "1  ...        1        0        0                    1                    0   \n",
       "2  ...        0        0        1                    1                    0   \n",
       "3  ...        0        0        1                    1                    0   \n",
       "4  ...        0        0        1                    1                    0   \n",
       "\n",
       "   num_major_vessels_2  num_major_vessels_3  thal_1  thal_2  thal_3  \n",
       "0                    0                    0       1       0       0  \n",
       "1                    0                    0       0       1       0  \n",
       "2                    0                    0       0       1       0  \n",
       "3                    0                    0       0       1       0  \n",
       "4                    0                    0       0       1       0  \n",
       "\n",
       "[5 rows x 29 columns]"
      ]
     },
     "execution_count": 79,
     "metadata": {},
     "output_type": "execute_result"
    }
   ],
   "source": [
    "df_train.head()"
   ]
  },
  {
   "cell_type": "markdown",
   "metadata": {},
   "source": [
    "# Model"
   ]
  },
  {
   "cell_type": "code",
   "execution_count": 80,
   "metadata": {
    "scrolled": false
   },
   "outputs": [],
   "source": [
    "# Training model\n",
    "    \n",
    "X = df_train.drop('target', axis = 1)\n",
    "y = df_train['target']"
   ]
  },
  {
   "cell_type": "code",
   "execution_count": null,
   "metadata": {},
   "outputs": [],
   "source": []
  },
  {
   "cell_type": "code",
   "execution_count": 81,
   "metadata": {
    "scrolled": false
   },
   "outputs": [],
   "source": [
    "X_train, X_test, y_train, y_test = train_test_split(X, y, test_size = 0.3, random_state = 5)"
   ]
  },
  {
   "cell_type": "code",
   "execution_count": 82,
   "metadata": {},
   "outputs": [
    {
     "data": {
      "text/plain": [
       "age                          0.384375\n",
       "resting_blood_pressure      -0.203696\n",
       "cholesterol                 -0.600422\n",
       "max_heart_rate_achieved     -0.809386\n",
       "st_depression                0.979713\n",
       "sex_0                        0.000000\n",
       "sex_1                        1.000000\n",
       "chest_pain_type_0            1.000000\n",
       "chest_pain_type_1            0.000000\n",
       "chest_pain_type_2            0.000000\n",
       "chest_pain_type_3            0.000000\n",
       "fasting_blood_pressure_0     1.000000\n",
       "fasting_blood_pressure_1     0.000000\n",
       "rest_ecg_0                   1.000000\n",
       "rest_ecg_1                   0.000000\n",
       "rest_ecg_2                   0.000000\n",
       "exercise_induced_angina_0    0.000000\n",
       "exercise_induced_angina_1    1.000000\n",
       "slope_0                      0.000000\n",
       "slope_1                      1.000000\n",
       "slope_2                      0.000000\n",
       "num_major_vessels_0          0.000000\n",
       "num_major_vessels_1          0.000000\n",
       "num_major_vessels_2          0.000000\n",
       "num_major_vessels_3          1.000000\n",
       "thal_1                       0.000000\n",
       "thal_2                       0.000000\n",
       "thal_3                       1.000000\n",
       "Name: 191, dtype: float64"
      ]
     },
     "execution_count": 82,
     "metadata": {},
     "output_type": "execute_result"
    }
   ],
   "source": [
    "X_test.loc[191]"
   ]
  },
  {
   "cell_type": "code",
   "execution_count": 83,
   "metadata": {
    "scrolled": false
   },
   "outputs": [
    {
     "name": "stderr",
     "output_type": "stream",
     "text": [
      "C:\\Users\\Wagle\\Anaconda3\\lib\\site-packages\\sklearn\\metrics\\_classification.py:1245: UndefinedMetricWarning: Precision and F-score are ill-defined and being set to 0.0 in labels with no predicted samples. Use `zero_division` parameter to control this behavior.\n",
      "  _warn_prf(average, modifier, msg_start, len(result))\n"
     ]
    }
   ],
   "source": [
    "#Linear Regression\n",
    "\n",
    "linear = LinearRegression()\n",
    "linear.fit(X_train, y_train)\n",
    "pred_linear = linear.predict(X_test)\n",
    "pred_linear = np.around(pred_linear).astype('int')\n",
    "\n",
    "\n",
    "#**Logistic Regression**\n",
    "\n",
    "logistic = LogisticRegression(max_iter=10000)\n",
    "logistic.fit(X_train, y_train)\n",
    "pred_logistic = logistic.predict(X_test)\n",
    "\n",
    "#**SVM**\n",
    "\n",
    "svc = SVC()\n",
    "svc.fit(X_train, y_train)\n",
    "pred_svm = svc.predict(X_test)\n",
    "\n",
    "\n",
    "#**Decision Tree**\n",
    "\n",
    "dt_clf = DecisionTreeClassifier()\n",
    "dt_clf.fit(X_train, y_train)\n",
    "pred_dt_clf = dt_clf.predict(X_test)\n",
    "\n",
    "#**Bagging**\n",
    "\n",
    "b_clf = BaggingClassifier(DecisionTreeClassifier(), n_estimators = 100, max_samples = 100, random_state = 0)\n",
    "b_clf.fit(X_train, y_train)\n",
    "pred_b_clf = b_clf.predict(X_test)\n",
    "\n",
    "#**Random Forest**\n",
    "\n",
    "rf_clf = RandomForestClassifier(n_estimators = 100, min_samples_leaf = 100, n_jobs = 100, random_state = 0)\n",
    "rf_clf.fit(X_train, y_train)\n",
    "pred_rf_clf = rf_clf.predict(X_test)\n",
    "\n",
    "# KNN\n",
    "classifier= KNeighborsClassifier(n_neighbors=6)  \n",
    "classifier.fit(X_train, y_train)\n",
    "y_pred= classifier.predict(X_test)\n",
    "\n",
    "\n",
    "\n",
    "# **Scores**\n",
    "model_list = ['Linear Regression', 'Logistic Regression', 'SVM', 'Decision Tree', 'Bagging', 'Random Forest', 'KNN']\n",
    "prediction_list = [pred_linear, pred_logistic, pred_svm, pred_dt_clf, pred_b_clf, pred_rf_clf, y_pred]\n",
    "\n",
    "dc = dict()\n",
    "for pred, model in zip(prediction_list, model_list):\n",
    "    precision, recall, f1, _ = precision_recall_fscore_support(y_test, pred, average='macro')\n",
    "    dc[model] = {'Accuracy':np.around(accuracy_score(y_test, pred), decimals = 3), \n",
    "                   'Precision': np.around(precision, decimals = 3), \n",
    "                   'Recall': np.around(recall, decimals = 3), \n",
    "                   'F1- score': np.around(f1, decimals = 3), \n",
    "                   'ROC AUC Score': np.around(roc_auc_score(y_test, pred), decimals = 3),\n",
    "                   'RMSE': np.around(np.sqrt(mean_squared_error(y_test, pred)), decimals = 3)\n",
    "                   }"
   ]
  },
  {
   "cell_type": "code",
   "execution_count": 84,
   "metadata": {},
   "outputs": [
    {
     "data": {
      "text/html": [
       "<div>\n",
       "<style scoped>\n",
       "    .dataframe tbody tr th:only-of-type {\n",
       "        vertical-align: middle;\n",
       "    }\n",
       "\n",
       "    .dataframe tbody tr th {\n",
       "        vertical-align: top;\n",
       "    }\n",
       "\n",
       "    .dataframe thead th {\n",
       "        text-align: right;\n",
       "    }\n",
       "</style>\n",
       "<table border=\"1\" class=\"dataframe\">\n",
       "  <thead>\n",
       "    <tr style=\"text-align: right;\">\n",
       "      <th></th>\n",
       "      <th>Linear Regression</th>\n",
       "      <th>Logistic Regression</th>\n",
       "      <th>SVM</th>\n",
       "      <th>Decision Tree</th>\n",
       "      <th>Bagging</th>\n",
       "      <th>Random Forest</th>\n",
       "      <th>KNN</th>\n",
       "    </tr>\n",
       "  </thead>\n",
       "  <tbody>\n",
       "    <tr>\n",
       "      <th>Accuracy</th>\n",
       "      <td>0.831</td>\n",
       "      <td>0.820</td>\n",
       "      <td>0.831</td>\n",
       "      <td>0.820</td>\n",
       "      <td>0.809</td>\n",
       "      <td>0.517</td>\n",
       "      <td>0.798</td>\n",
       "    </tr>\n",
       "    <tr>\n",
       "      <th>F1- score</th>\n",
       "      <td>0.831</td>\n",
       "      <td>0.820</td>\n",
       "      <td>0.831</td>\n",
       "      <td>0.820</td>\n",
       "      <td>0.809</td>\n",
       "      <td>0.341</td>\n",
       "      <td>0.798</td>\n",
       "    </tr>\n",
       "    <tr>\n",
       "      <th>Precision</th>\n",
       "      <td>0.832</td>\n",
       "      <td>0.821</td>\n",
       "      <td>0.831</td>\n",
       "      <td>0.820</td>\n",
       "      <td>0.809</td>\n",
       "      <td>0.258</td>\n",
       "      <td>0.800</td>\n",
       "    </tr>\n",
       "    <tr>\n",
       "      <th>RMSE</th>\n",
       "      <td>0.411</td>\n",
       "      <td>0.424</td>\n",
       "      <td>0.411</td>\n",
       "      <td>0.424</td>\n",
       "      <td>0.437</td>\n",
       "      <td>0.695</td>\n",
       "      <td>0.450</td>\n",
       "    </tr>\n",
       "    <tr>\n",
       "      <th>ROC AUC Score</th>\n",
       "      <td>0.831</td>\n",
       "      <td>0.819</td>\n",
       "      <td>0.832</td>\n",
       "      <td>0.820</td>\n",
       "      <td>0.809</td>\n",
       "      <td>0.500</td>\n",
       "      <td>0.799</td>\n",
       "    </tr>\n",
       "    <tr>\n",
       "      <th>Recall</th>\n",
       "      <td>0.831</td>\n",
       "      <td>0.819</td>\n",
       "      <td>0.832</td>\n",
       "      <td>0.820</td>\n",
       "      <td>0.809</td>\n",
       "      <td>0.500</td>\n",
       "      <td>0.799</td>\n",
       "    </tr>\n",
       "  </tbody>\n",
       "</table>\n",
       "</div>"
      ],
      "text/plain": [
       "               Linear Regression  Logistic Regression    SVM  Decision Tree  \\\n",
       "Accuracy                   0.831                0.820  0.831          0.820   \n",
       "F1- score                  0.831                0.820  0.831          0.820   \n",
       "Precision                  0.832                0.821  0.831          0.820   \n",
       "RMSE                       0.411                0.424  0.411          0.424   \n",
       "ROC AUC Score              0.831                0.819  0.832          0.820   \n",
       "Recall                     0.831                0.819  0.832          0.820   \n",
       "\n",
       "               Bagging  Random Forest    KNN  \n",
       "Accuracy         0.809          0.517  0.798  \n",
       "F1- score        0.809          0.341  0.798  \n",
       "Precision        0.809          0.258  0.800  \n",
       "RMSE             0.437          0.695  0.450  \n",
       "ROC AUC Score    0.809          0.500  0.799  \n",
       "Recall           0.809          0.500  0.799  "
      ]
     },
     "execution_count": 84,
     "metadata": {},
     "output_type": "execute_result"
    }
   ],
   "source": [
    "# With standard scalar\n",
    "dc_scores = pd.DataFrame(dc)\n",
    "dc_scores"
   ]
  },
  {
   "cell_type": "markdown",
   "metadata": {},
   "source": [
    "# Logistic Regression is the best performing model"
   ]
  },
  {
   "cell_type": "code",
   "execution_count": 26,
   "metadata": {},
   "outputs": [],
   "source": [
    "import pickle\n",
    "pickle.dump(logistic, open('Heart_Disease.sav', 'wb'))"
   ]
  }
 ],
 "metadata": {
  "kernelspec": {
   "display_name": "Python 3",
   "language": "python",
   "name": "python3"
  },
  "language_info": {
   "codemirror_mode": {
    "name": "ipython",
    "version": 3
   },
   "file_extension": ".py",
   "mimetype": "text/x-python",
   "name": "python",
   "nbconvert_exporter": "python",
   "pygments_lexer": "ipython3",
   "version": "3.7.3"
  }
 },
 "nbformat": 4,
 "nbformat_minor": 2
}
